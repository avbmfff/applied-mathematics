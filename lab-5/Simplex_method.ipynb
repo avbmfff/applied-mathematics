{
  "nbformat": 4,
  "nbformat_minor": 0,
  "metadata": {
    "colab": {
      "provenance": [],
      "collapsed_sections": [
        "LpCx6NzpccJF"
      ]
    },
    "kernelspec": {
      "name": "python3",
      "display_name": "Python 3"
    },
    "language_info": {
      "name": "python"
    }
  },
  "cells": [
    {
      "cell_type": "code",
      "source": [
        "def get_constraint_sign(constraint_type):\n",
        "    if constraint_type == \"lte\":\n",
        "        return \"<=\"\n",
        "    elif constraint_type == \"gte\":\n",
        "        return \">=\"\n",
        "    elif constraint_type == \"eq\":\n",
        "        return \"=\"\n",
        "    else:\n",
        "        return constraint_type"
      ],
      "metadata": {
        "id": "HEA-UPch0qD7"
      },
      "execution_count": null,
      "outputs": []
    },
    {
      "cell_type": "code",
      "source": [
        "import json\n",
        "\n",
        "with open('/content/input (2).json', 'r') as file:\n",
        "    data = json.load(file)\n",
        "\n",
        "coefficients = data[\"f\"]\n",
        "goal = data[\"goal\"]\n",
        "constraints = data[\"constraints\"]\n",
        "\n",
        "print(\"Целевая функция:\")\n",
        "print(\"f(x) =\", \" + \".join([f\"{coefficients[i]} · x{i + 1}\"\n",
        "                            for i in range(len(coefficients))]), f\"→ {goal}\")\n",
        "print(\"Ограничения:\")\n",
        "for constraint in constraints:\n",
        "    coefs = constraint[\"coefs\"]\n",
        "    constraint_type = constraint[\"type\"]\n",
        "    b = constraint[\"b\"]\n",
        "    constraint_sign = get_constraint_sign(constraint_type)\n",
        "    constraint_str = \" + \".join([f\"{coefs[i]} · x{i + 1}\"\n",
        "     for i in range(len(coefs))])\n",
        "    print(f\"{constraint_str} {constraint_sign} {b}\")\n"
      ],
      "metadata": {
        "colab": {
          "base_uri": "https://localhost:8080/"
        },
        "id": "zIE0fN_f0NAB",
        "outputId": "1b9422b2-0bfb-4da6-aaa4-198d79c8c630"
      },
      "execution_count": null,
      "outputs": [
        {
          "output_type": "stream",
          "name": "stdout",
          "text": [
            "Целевая функция:\n",
            "f(x) = 1 · x1 + 2 · x2 + 3 · x3 → max\n",
            "Ограничения:\n",
            "1 · x1 + 0 · x2 + 0 · x3 <= 1\n",
            "1 · x1 + 1 · x2 + 0 · x3 >= 2\n",
            "1 · x1 + 1 · x2 + 1 · x3 = 3\n"
          ]
        }
      ]
    },
    {
      "cell_type": "markdown",
      "source": [],
      "metadata": {
        "id": "3oXmsbBiqvur"
      }
    },
    {
      "cell_type": "markdown",
      "source": [
        "### Код"
      ],
      "metadata": {
        "id": "BiYT7AxwdRhj"
      }
    },
    {
      "cell_type": "code",
      "source": [
        "import warnings\n",
        "\n",
        "warnings.filterwarnings(\"ignore\", category=UserWarning, message=\"Alternate solution exists\")"
      ],
      "metadata": {
        "id": "ZaJFEPpGqvjB"
      },
      "execution_count": null,
      "outputs": []
    },
    {
      "cell_type": "code",
      "source": [
        "from fractions import Fraction\n",
        "from warnings import warn\n",
        "\n",
        "def create_coefficient_matrix_from_constraints(data):\n",
        "    num_decision_vars = len(data[\"f\"])\n",
        "    num_slack_vars = len([c for c in data[\"constraints\"] if c[\"type\"] in ['gte', 'lte']])\n",
        "    num_surplus_vars = len([c for c in data[\"constraints\"] if c[\"type\"] in ['lte', 'eq']])\n",
        "    total_vars = num_decision_vars + num_slack_vars + num_surplus_vars\n",
        "\n",
        "    coeff_matrix = [[Fraction(0, 1) for _ in range(total_vars + 1)] for _ in range(len(data[\"constraints\"]) + 1)]\n",
        "    slack_index = num_decision_vars\n",
        "    surplus_index = num_decision_vars + num_slack_vars\n",
        "    surplus_rows = []\n",
        "\n",
        "    for i, constraint in enumerate(data[\"constraints\"], start=1):\n",
        "        coefficients, b, constraint_type = constraint[\"coefs\"], constraint[\"b\"], constraint[\"type\"]\n",
        "\n",
        "        for j, coefficient in enumerate(coefficients):\n",
        "            coeff_matrix[i][j] = Fraction(coefficient, 1)\n",
        "\n",
        "        coeff_matrix[i][slack_index] = Fraction(1, 1) if constraint_type == 'lte' else Fraction(-1, 1) if constraint_type == 'gte' else 0\n",
        "        coeff_matrix[i][surplus_index] = Fraction(1, 1) if constraint_type in ['gte', 'eq'] else 0\n",
        "        slack_index += 1 if constraint_type == 'lte' or constraint_type == 'gte' else 0\n",
        "        surplus_index += 1 if constraint_type in ['gte', 'eq'] else 0\n",
        "        if constraint_type in ['gte', 'eq']:\n",
        "            surplus_rows.append(i)\n",
        "\n",
        "        coeff_matrix[i][-1] = Fraction(b, 1)\n",
        "\n",
        "    return coeff_matrix, surplus_rows, num_slack_vars, num_surplus_vars, num_decision_vars\n",
        "\n",
        "def phase_one(coeff_matrix, surplus_rows, num_decision_vars, num_slack_vars, num_surplus_vars):\n",
        "    surplus_index = num_decision_vars + num_slack_vars\n",
        "    slack_index = num_decision_vars\n",
        "\n",
        "    coeff_matrix[0][-surplus_index:] = [-Fraction(1, 1)] * surplus_index\n",
        "    coeff_0 = 0\n",
        "\n",
        "    for i in surplus_rows:\n",
        "        coeff_matrix[0] = add_rows(coeff_matrix[0], coeff_matrix[i])\n",
        "        basic_vars[i] = surplus_index\n",
        "        surplus_index += 1\n",
        "\n",
        "    for i in range(1, len(basic_vars)):\n",
        "        if basic_vars[i] == 0:\n",
        "            basic_vars[i] = slack_index\n",
        "            slack_index += 1\n",
        "\n",
        "    key_column = find_max_coefficient_index(coeff_matrix[0])\n",
        "    condition = coeff_matrix[0][key_column] > 0\n",
        "\n",
        "    while condition:\n",
        "        key_row = find_key_row(coeff_matrix, key_column)\n",
        "        basic_vars[key_row] = key_column\n",
        "        pivot = coeff_matrix[key_row][key_column]\n",
        "        normalize_row(coeff_matrix, key_row, pivot)\n",
        "        zero_out_key_column(coeff_matrix, key_column, key_row)\n",
        "\n",
        "        key_column = find_max_coefficient_index(coeff_matrix[0])\n",
        "        condition = coeff_matrix[0][key_column] > 0\n",
        "\n",
        "    if coeff_matrix[0][-1] != 0:\n",
        "        warn(\"Alternate solution exists\")\n",
        "\n",
        "def find_key_row(coeff_matrix, key_column):\n",
        "    min_val = float(\"inf\")\n",
        "    min_i = 0\n",
        "\n",
        "    for i in range(1, len(coeff_matrix)):\n",
        "        if coeff_matrix[i][key_column] > 0:\n",
        "            val = coeff_matrix[i][-1] / coeff_matrix[i][key_column]\n",
        "            if val < min_val:\n",
        "                min_val = val\n",
        "                min_i = i\n",
        "\n",
        "    if min_val == float(\"inf\"):\n",
        "        raise ValueError(\"Unbounded solution\")\n",
        "\n",
        "    if min_val == 0:\n",
        "        warn(\"Degeneracy\")\n",
        "\n",
        "    return min_i\n",
        "\n",
        "def normalize_row(coeff_matrix, key_row, pivot):\n",
        "    for i in range(len(coeff_matrix[0])):\n",
        "        coeff_matrix[key_row][i] /= pivot\n",
        "\n",
        "def zero_out_key_column(coeff_matrix, key_column, key_row):\n",
        "    num_columns = len(coeff_matrix[0])\n",
        "\n",
        "    for i in range(len(coeff_matrix)):\n",
        "        if i != key_row:\n",
        "            factor = coeff_matrix[i][key_column]\n",
        "            for j in range(num_columns):\n",
        "                coeff_matrix[i][j] -= coeff_matrix[key_row][j] * factor\n",
        "\n",
        "def remove_surplus_vars(coeff_matrix, num_decision_vars, num_slack_vars, num_surplus_vars):\n",
        "    for i in range(len(coeff_matrix)):\n",
        "        non_surplus_length = num_decision_vars + num_slack_vars + 1\n",
        "        length = len(coeff_matrix[i])\n",
        "\n",
        "        while length != non_surplus_length:\n",
        "            del coeff_matrix[i][non_surplus_length - 1]\n",
        "            length -= 1\n",
        "\n",
        "def update_objective_function(coeff_matrix, objective_function):\n",
        "    for i in range(len(objective_function)):\n",
        "        coeff, index = objective_function[i], i + 1\n",
        "        if objective_function[i - 1] == '-':\n",
        "            coeff_matrix[0][index - 1] = Fraction(str(coeff) + \"/1\")\n",
        "        else:\n",
        "            coeff_matrix[0][index - 1] = Fraction(\"-\" + str(coeff) + \"/1\")\n",
        "\n",
        "\n",
        "\n",
        "\n",
        "def optimize_objective(coeff_matrix, basic_vars, num_decision_vars, maximize):\n",
        "    update_objective_function(coeff_matrix, data[\"f\"])\n",
        "\n",
        "    compare_func = (lambda a, b: a < b) if maximize else (lambda a, b: a > b)\n",
        "    get_key_column_func = find_min_coefficient_index if maximize else find_max_coefficient_index\n",
        "\n",
        "\n",
        "    for row, column in enumerate(basic_vars[1:]):\n",
        "        if coeff_matrix[0][column] != 0:\n",
        "            coeff_matrix[0] = add_rows(coeff_matrix[0], multiply_row_by_constant(-coeff_matrix[0][column], coeff_matrix[row + 1]))\n",
        "\n",
        "    key_column = get_key_column_func(coeff_matrix[0])\n",
        "    condition = compare_func(coeff_matrix[0][key_column], 0)\n",
        "\n",
        "    while condition:\n",
        "        key_row = find_key_row(coeff_matrix, key_column)\n",
        "        basic_vars[key_row] = key_column\n",
        "        pivot = coeff_matrix[key_row][key_column]\n",
        "        normalize_row(coeff_matrix, key_row, pivot)\n",
        "        zero_out_key_column(coeff_matrix, key_column, key_row)\n",
        "        key_column = get_key_column_func(coeff_matrix[0])\n",
        "        condition = compare_func(coeff_matrix[0][key_column], 0)\n",
        "\n",
        "    solution = {}\n",
        "    for i, var in enumerate(basic_vars[1:]):\n",
        "        if var < num_decision_vars:\n",
        "            solution[f'x_{var + 1}'] = coeff_matrix[i + 1][-1]\n",
        "\n",
        "    for i in range(0, num_decision_vars):\n",
        "        if i not in basic_vars[1:]:\n",
        "            solution[f'x_{i + 1}'] = Fraction(\"0/1\")\n",
        "\n",
        "    # for i in range(len(coeff_matrix[0])):\n",
        "    #   if coeff_matrix[0][i] and i not in basic_vars[1:]:\n",
        "    #       warn(\"Alternate Solution exists\")\n",
        "    #        break\n",
        "\n",
        "    return solution\n",
        "\n",
        "def add_rows(row1, row2):\n",
        "    return [x + y for x, y in zip(row1, row2)]\n",
        "\n",
        "def find_max_coefficient_index(row):\n",
        "    return max(range(len(row) - 1), key=lambda i: row[i])\n",
        "\n",
        "def multiply_row_by_constant(constant, row):\n",
        "    return [constant * x for x in row]\n",
        "\n",
        "def find_min_coefficient_index(row):\n",
        "    return min(range(len(row)), key=lambda i: row[i])"
      ],
      "metadata": {
        "id": "jBtVQXjVuo5r"
      },
      "execution_count": null,
      "outputs": []
    },
    {
      "cell_type": "code",
      "source": [
        "def pretty_print_solution(solution):\n",
        "    print(\"Optimal Solution:\")\n",
        "    for variable, value in solution.items():\n",
        "        print(f\"{variable}: {value}\")\n",
        "    print()"
      ],
      "metadata": {
        "id": "Qs9-Ja_QqMGW"
      },
      "execution_count": null,
      "outputs": []
    },
    {
      "cell_type": "code",
      "source": [
        "def solution(data):\n",
        "  try:\n",
        "    coeff_matrix, surplus_rows, num_slack_vars, num_surplus_vars, num_decision_vars = create_coefficient_matrix_from_constraints(data)\n",
        "    basic_vars = [0 for _ in range(len(coeff_matrix))]\n",
        "    phase_one(coeff_matrix, surplus_rows, num_decision_vars, num_slack_vars, num_surplus_vars)\n",
        "    remove_surplus_vars(coeff_matrix, num_decision_vars, num_slack_vars, num_surplus_vars)\n",
        "    solution = optimize_objective(coeff_matrix, basic_vars, num_decision_vars, maximize=not ('min' in data[\"goal\"].lower()))\n",
        "    pretty_print_solution(solution)\n",
        "    print(\"Optimal Value:\", coeff_matrix[0][-1])\n",
        "  except:\n",
        "    print(\"Function is unbounded. Optimal solution does not exist.\")"
      ],
      "metadata": {
        "id": "SvX3usmrt200"
      },
      "execution_count": null,
      "outputs": []
    },
    {
      "cell_type": "code",
      "source": [
        "import json\n",
        "\n",
        "json_file_path = \"/content/input (2).json\"\n",
        "with open(json_file_path, \"r\") as json_file:\n",
        "    data = json.load(json_file)\n",
        "\n",
        "solution(data)"
      ],
      "metadata": {
        "colab": {
          "base_uri": "https://localhost:8080/"
        },
        "id": "tNQZAj8Yrm73",
        "outputId": "2295db30-fd66-4f98-fd42-efc16757eae5"
      },
      "execution_count": null,
      "outputs": [
        {
          "output_type": "stream",
          "name": "stdout",
          "text": [
            "Optimal Solution:\n",
            "x_2: 2\n",
            "x_3: 1\n",
            "x_1: 0\n",
            "\n",
            "Optimal Value: 7\n"
          ]
        }
      ]
    },
    {
      "cell_type": "markdown",
      "source": [
        "### Проверки:"
      ],
      "metadata": {
        "id": "EFmoYuxPwDGl"
      }
    },
    {
      "cell_type": "code",
      "source": [
        "#examples\n",
        "\n",
        "data = {\n",
        "    \"f\": [2, 3],\n",
        "    \"constraints\": [\n",
        "        {\"coefs\": [1, -1], \"b\": 1, \"type\": \"lte\"},\n",
        "        {\"coefs\": [3, 2], \"b\": 12, \"type\": \"gte\"}\n",
        "    ],\n",
        "    \"goal\": \"min\"\n",
        "}\n",
        "\n",
        "solution(data)"
      ],
      "metadata": {
        "colab": {
          "base_uri": "https://localhost:8080/"
        },
        "id": "CxV_1okusF7I",
        "outputId": "6357792b-1019-4869-9b83-a380df9e44ca"
      },
      "execution_count": null,
      "outputs": [
        {
          "output_type": "stream",
          "name": "stdout",
          "text": [
            "Optimal Solution:\n",
            "x_1: 9/5\n",
            "x_2: 0\n",
            "\n",
            "Optimal Value: 23/5\n"
          ]
        }
      ]
    },
    {
      "cell_type": "code",
      "source": [
        "data = {\n",
        "    \"f\": [1, 2, 3],\n",
        "    \"constraints\": [\n",
        "        {\"coefs\": [1, 0, 0], \"type\": \"lte\", \"b\": 1},\n",
        "        {\"coefs\": [1, 1, 0], \"type\": \"gte\", \"b\": 2},\n",
        "        {\"coefs\": [1, 1, 1], \"type\": \"eq\", \"b\": 3}\n",
        "    ],\n",
        "    \"goal\": \"min\"\n",
        "}\n",
        "\n",
        "solution(data)"
      ],
      "metadata": {
        "colab": {
          "base_uri": "https://localhost:8080/"
        },
        "id": "o0g4Zgd7sk6i",
        "outputId": "d3b0264e-eb25-40c1-f17d-f5a00d1c4d5d"
      },
      "execution_count": null,
      "outputs": [
        {
          "output_type": "stream",
          "name": "stdout",
          "text": [
            "Optimal Solution:\n",
            "x_1: 1\n",
            "x_2: 0\n",
            "x_3: 0\n",
            "\n",
            "Optimal Value: 0\n"
          ]
        }
      ]
    },
    {
      "cell_type": "code",
      "source": [
        "data = {\n",
        "    \"f\": [1, 2, 3],\n",
        "    \"constraints\": [\n",
        "        {\"coefs\": [1, 0, 0], \"type\": \"lte\", \"b\": 1},\n",
        "        {\"coefs\": [1, 1, 0], \"type\": \"gte\", \"b\": 2},\n",
        "        {\"coefs\": [1, 1, 1], \"type\": \"gte\", \"b\": 3}\n",
        "    ],\n",
        "    \"goal\": \"max\"\n",
        "}\n",
        "\n",
        "solution(data)"
      ],
      "metadata": {
        "colab": {
          "base_uri": "https://localhost:8080/"
        },
        "id": "ua7xb-_ks6Jw",
        "outputId": "48c93227-dc39-48a8-adac-5326ca335392"
      },
      "execution_count": null,
      "outputs": [
        {
          "output_type": "stream",
          "name": "stdout",
          "text": [
            "Function is unbounded. Optimal solution does not exist.\n"
          ]
        }
      ]
    },
    {
      "cell_type": "code",
      "source": [
        "data = {\n",
        "    \"f\": [1, 5, 3],\n",
        "    \"constraints\": [\n",
        "        {\"coefs\": [1, 0, 0], \"type\": \"gte\", \"b\": 1},\n",
        "        {\"coefs\": [1, 1, 0], \"type\": \"gte\", \"b\": 2},\n",
        "        {\"coefs\": [1, 1, 1], \"type\": \"gte\", \"b\": 3}\n",
        "    ],\n",
        "    \"goal\": \"max\"\n",
        "}\n",
        "\n",
        "solution(data)"
      ],
      "metadata": {
        "colab": {
          "base_uri": "https://localhost:8080/"
        },
        "id": "XoBuKOg6vsGo",
        "outputId": "01a8c20f-3bf1-4274-e8da-90a17da5b226"
      },
      "execution_count": null,
      "outputs": [
        {
          "output_type": "stream",
          "name": "stdout",
          "text": [
            "Function is unbounded. Optimal solution does not exist.\n"
          ]
        }
      ]
    },
    {
      "cell_type": "markdown",
      "source": [
        "### ВСТРОЕННЫЕ МЕТОДЫ"
      ],
      "metadata": {
        "id": "LpCx6NzpccJF"
      }
    },
    {
      "cell_type": "code",
      "source": [
        "pip install pulp matplotlib"
      ],
      "metadata": {
        "id": "MTTmD8wikk5I"
      },
      "execution_count": null,
      "outputs": []
    },
    {
      "cell_type": "code",
      "source": [
        "import pulp\n",
        "import matplotlib.pyplot as plt\n",
        "import numpy as np\n",
        "\n",
        "# Определение задачи с использованием PuLP\n",
        "coefficients = [1, 2, 3]\n",
        "goal = pulp.LpMaximize  # Цель - максимизация\n",
        "lp_problem = pulp.LpProblem(\"Simplex_Method\", goal)\n",
        "\n",
        "# Определение переменных\n",
        "x = [pulp.LpVariable(f\"x{i}\", lowBound=0) for i in range(1, len(coefficients) + 1)]\n",
        "\n",
        "# Добавление целевой функции\n",
        "lp_problem += pulp.lpDot(coefficients, x)\n",
        "\n",
        "# Добавление ограничений\n",
        "constraints = [\n",
        "    {\"coefs\": [1, 0, 0], \"type\": \"lte\", \"b\": 1},\n",
        "    {\"coefs\": [1, 1, 0], \"type\": \"gte\", \"b\": 2},\n",
        "    {\"coefs\": [1, 1, 1], \"type\": \"eq\", \"b\": 3}\n",
        "]\n",
        "\n",
        "for constraint in constraints:\n",
        "    if constraint[\"type\"] == \"lte\":\n",
        "        lp_problem += pulp.lpDot(constraint[\"coefs\"], x) <= constraint[\"b\"]\n",
        "    elif constraint[\"type\"] == \"gte\":\n",
        "        lp_problem += pulp.lpDot(constraint[\"coefs\"], x) >= constraint[\"b\"]\n",
        "    elif constraint[\"type\"] == \"eq\":\n",
        "        lp_problem += pulp.lpDot(constraint[\"coefs\"], x) == constraint[\"b\"]\n",
        "\n",
        "# Решение задачи\n",
        "lp_problem.solve()\n",
        "\n",
        "# Вывод оптимальных значений переменных и значения целевой функции\n",
        "optimal_values = [pulp.value(var) for var in x]\n",
        "optimal_value = pulp.value(lp_problem.objective)\n",
        "print(\"Оптимальные значения переменных:\", optimal_values)\n",
        "print(\"Оптимальное значение функции:\", optimal_value)\n",
        "\n",
        "# Создание графиков оптимальных значений переменных\n",
        "variables = [f\"x{i}\" for i in range(1, len(coefficients) + 1)]\n",
        "plt.bar(variables, optimal_values)\n",
        "plt.xlabel(\"Переменные\")\n",
        "plt.ylabel(\"Оптимальные значения\")\n",
        "plt.title(\"Оптимальные значения переменных\")\n",
        "plt.show()"
      ],
      "metadata": {
        "colab": {
          "base_uri": "https://localhost:8080/",
          "height": 507
        },
        "id": "syY4SpNOkhBw",
        "outputId": "9557e4ae-dcec-4ac7-8946-03b4584b326d"
      },
      "execution_count": null,
      "outputs": [
        {
          "output_type": "stream",
          "name": "stdout",
          "text": [
            "Оптимальные значения переменных: [0.0, 2.0, 1.0]\n",
            "Оптимальное значение функции: 7.0\n"
          ]
        },
        {
          "output_type": "display_data",
          "data": {
            "text/plain": [
              "<Figure size 640x480 with 1 Axes>"
            ],
            "image/png": "[encoded data removed]"
          },
          "metadata": {}
        }
      ]
    }
  ]
}